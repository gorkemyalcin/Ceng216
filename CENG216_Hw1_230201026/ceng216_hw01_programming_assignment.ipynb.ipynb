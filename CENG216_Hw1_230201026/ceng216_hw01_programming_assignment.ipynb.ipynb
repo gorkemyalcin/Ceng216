{
 "cells": [
  {
   "cell_type": "markdown",
   "metadata": {},
   "source": [
    "# Example Problem -- Cerberus\n",
    "\n",
    "We are given three points $(x_1, y_1), (x_2, y_2), \\textrm{ and } (x_3, y_3)$ and we need to find the coordinates of the point $(x_c, y_c)$ such that the line segments joining this point to the three given points will make angles of $120^\\circ$ with each other. In the image below, we are given the points $A, B, \\textrm{ and } C$ and we need to determine the point $O$ such that the angles $\\angle AOB = \\angle BOC = \\angle COA = 120^\\circ$.\n",
    "\n",
    "![The Cerberus Problem](files/cerberus.png)"
   ]
  },
  {
   "cell_type": "markdown",
   "metadata": {},
   "source": [
    "We can use the cosine formula to put constraints on the point $O$:\n",
    "- $\\|AB\\|^2 = \\|AO\\|^2 + \\|BO\\|^2 - 2\\|AO\\|\\|BO\\|\\cos 120^\\circ$\n",
    "- $\\|AC\\|^2 = \\|AO\\|^2 + \\|CO\\|^2 - 2\\|AO\\|\\|CO\\|\\cos 120^\\circ$\n",
    "\n",
    "Note that putting a third constraint would be redundant. Depending on the problem, it may or it may not be a good idea.\n",
    "\n",
    "We can write each constraint as a function of the coordinates of the point $O$:\n",
    "\n",
    "- $f_1(x_c, y_c) = \\|AO\\|^2 + \\|BO\\|^2 - 2\\|AO\\|\\|BO\\|\\cos 120^\\circ - \\|AB\\|^2$\n",
    "- $f_2(x_c, y_c) = \\|AO\\|^2 + \\|CO\\|^2 - 2\\|AO\\|\\|CO\\|\\cos 120^\\circ - \\|AC\\|^2$\n",
    "\n",
    "Our problem is finding the simultaneous root of the functions $f_1(x_c, y_c)$ and $f_2(x_c, y_x)$. So the input is two dimensional and the output is also two dimensional. In this case the Newton-Raphson iterations are given by\n",
    "$$ \\mathtt{J} \\mathbf{\\Delta x}_i = - \\mathbf{f}(\\mathbf{x}_i) $$\n",
    "where $\\mathbf{x} = (x_i, y_i)^\\top$ is the coordinate vector of the point $O$, $\\mathbf{f}(\\mathbf{x}_i)=(f_1(x_i, y_i), f_2(x_i, y_i))^\\top$ is the value vector of the function we want to find the root of, and finally\n",
    "$$ \\mathtt{J} = \\left[\\begin{array}{cc}\\frac{\\partial f_1}{\\partial x}&\\frac{\\partial f_1}{\\partial y}\\\\\\frac{\\partial f_2}{\\partial x}&\\frac{\\partial f_2}{\\partial y}\\end{array}\\right]$$\n",
    "is the Jacobian matrix of the function partial derivatives.\n",
    "\n",
    "In this homework you will write the necessary Python functions to compute the function values and the Jacobian."
   ]
  },
  {
   "cell_type": "code",
   "execution_count": 9,
   "metadata": {},
   "outputs": [],
   "source": [
    "import math\n",
    "import numpy as np\n",
    "from sympy import *"
   ]
  },
  {
   "cell_type": "markdown",
   "metadata": {},
   "source": [
    "We can define a new function that calculates $f_i(x_c, y_c), i=1,2$. Complete the function below so `f1` and `f2` has the correct values as defined at the beginning. \\emph{Hint:} You can check the `angles` function below for a computation of lengths."
   ]
  },
  {
   "cell_type": "code",
   "execution_count": 10,
   "metadata": {},
   "outputs": [],
   "source": [
    "def f_i(xc, yc, corners):\n",
    "    x1 = corners[0][0]\n",
    "    y1 = corners[0][1]\n",
    "    x2 = corners[1][0]\n",
    "    y2 = corners[1][1]\n",
    "    x3 = corners[2][0]\n",
    "    y3 = corners[2][1]\n",
    "    \n",
    "    f1 = ((x1-xc)**2+(y1-yc)**2)+((x2-xc)**2+(y2-yc)**2)-2.0*(((x1-xc)**2+((y1-yc)**2))**0.5)*(((x2-xc)**2+(y2-yc)**2)**0.5)*np.cos((np.pi/3)*2)-((x1-x2)**2+(y1-y2)**2)\n",
    "    f2 = ((x1-xc)**2+(y1-yc)**2)+((x3-xc)**2+(y3-yc)**2)-2.0*(((x1-xc)**2+((y1-yc)**2))**0.5)*(((x3-xc)**2+(y3-yc)**2)**0.5)*np.cos((np.pi/3)*2)-((x1-x3)**2+(y1-y3)**2) \n",
    "\n",
    "    return np.array([[f1], [f2]])"
   ]
  },
  {
   "cell_type": "markdown",
   "metadata": {},
   "source": [
    "Now we need to calculate the derivatives of $f_1$ and $f_2$ w.r.t. $x_c$ and $y_c$. We will use the `sympy` module to do that. The code below is almost complete. You just need to assign `f1` and `f2` to the correct values that you have written above and then run `diff(function, var)` to compute the derivative of a `function` w.r.t. a `variable`. Compute the derivatives $\\frac{\\partial f_1}{\\partial x}, \\frac{\\partial f_1}{\\partial y}, \\frac{\\partial f_2}{\\partial x}, \\textrm{ and } \\frac{\\partial f_2}{\\partial y}$."
   ]
  },
  {
   "cell_type": "code",
   "execution_count": 11,
   "metadata": {},
   "outputs": [
    {
     "name": "stdout",
     "output_type": "stream",
     "text": [
      "df1_dx = -2*x1 - 2*x2 + 4*xc + 1.0*(-1.0*x1 + 1.0*xc)*((x1 - xc)**2 + (y1 - yc)**2)**(-0.5)*((x2 - xc)**2 + (y2 - yc)**2)**0.5 + 1.0*(-1.0*x2 + 1.0*xc)*((x1 - xc)**2 + (y1 - yc)**2)**0.5*((x2 - xc)**2 + (y2 - yc)**2)**(-0.5)\n",
      "df1_dy = -2*y1 - 2*y2 + 4*yc + 1.0*(-1.0*y1 + 1.0*yc)*((x1 - xc)**2 + (y1 - yc)**2)**(-0.5)*((x2 - xc)**2 + (y2 - yc)**2)**0.5 + 1.0*(-1.0*y2 + 1.0*yc)*((x1 - xc)**2 + (y1 - yc)**2)**0.5*((x2 - xc)**2 + (y2 - yc)**2)**(-0.5)\n",
      "df2_dx = -2*x1 - 2*x3 + 4*xc + 1.0*(-1.0*x1 + 1.0*xc)*((x1 - xc)**2 + (y1 - yc)**2)**(-0.5)*((x3 - xc)**2 + (y3 - yc)**2)**0.5 + 1.0*(-1.0*x3 + 1.0*xc)*((x1 - xc)**2 + (y1 - yc)**2)**0.5*((x3 - xc)**2 + (y3 - yc)**2)**(-0.5)\n",
      "df2_dy = -2*y1 - 2*y3 + 4*yc + 1.0*(-1.0*y1 + 1.0*yc)*((x1 - xc)**2 + (y1 - yc)**2)**(-0.5)*((x3 - xc)**2 + (y3 - yc)**2)**0.5 + 1.0*(-1.0*y3 + 1.0*yc)*((x1 - xc)**2 + (y1 - yc)**2)**0.5*((x3 - xc)**2 + (y3 - yc)**2)**(-0.5)\n"
     ]
    }
   ],
   "source": [
    "x1, x2, x3, xc, y1, y2, y3, yc = symbols('x1 x2 x3 xc y1 y2 y3 yc')\n",
    "    \n",
    "f1 = ((x1-xc)**2+(y1-yc)**2)+((x2-xc)**2+(y2-yc)**2)-2.0*(((x1-xc)**2+((y1-yc)**2))**0.5)*(((x2-xc)**2+(y2-yc)**2)**0.5)*np.cos((np.pi/3)*2)-((x1-x2)**2+(y1-y2)**2)\n",
    "f2 = ((x1-xc)**2+(y1-yc)**2)+((x3-xc)**2+(y3-yc)**2)-2.0*(((x1-xc)**2+((y1-yc)**2))**0.5)*(((x3-xc)**2+(y3-yc)**2)**0.5)*np.cos((np.pi/3)*2)-((x1-x3)**2+(y1-y3)**2)\n",
    "df1_dx = diff(f1,xc)\n",
    "df1_dy = diff(f1,yc)\n",
    "df2_dx = diff(f2,xc)\n",
    "df2_dy = diff(f2,yc)\n",
    "print(f'df1_dx = {df1_dx}')\n",
    "print(f'df1_dy = {df1_dy}')\n",
    "print(f'df2_dx = {df2_dx}')\n",
    "print(f'df2_dy = {df2_dy}')"
   ]
  },
  {
   "cell_type": "markdown",
   "metadata": {},
   "source": [
    "We need a function to compute the derivative of $f_i$ w.r.t. $x_c$ and $y_c$. Fill in the function below with the output of `sympy`."
   ]
  },
  {
   "cell_type": "code",
   "execution_count": 12,
   "metadata": {},
   "outputs": [],
   "source": [
    "def jacobian(xc, yc, corners):\n",
    "    x1 = corners[0][0]\n",
    "    y1 = corners[0][1]\n",
    "    x2 = corners[1][0]\n",
    "    y2 = corners[1][1]\n",
    "    x3 = corners[2][0]\n",
    "    y3 = corners[2][1]\n",
    "    df1_dx = -2*x1 - 2*x2 + 4*xc + 1.0*(-1.0*x1 + 1.0*xc)*((x1 - xc)**2 + (y1 - yc)**2)**(-0.5)*((x2 - xc)**2 + (y2 - yc)**2)**0.5 + 1.0*(-1.0*x2 + 1.0*xc)*((x1 - xc)**2 + (y1 - yc)**2)**0.5*((x2 - xc)**2 + (y2 - yc)**2)**(-0.5)\n",
    "    df1_dy = -2*y1 - 2*y2 + 4*yc + 1.0*(-1.0*y1 + 1.0*yc)*((x1 - xc)**2 + (y1 - yc)**2)**(-0.5)*((x2 - xc)**2 + (y2 - yc)**2)**0.5 + 1.0*(-1.0*y2 + 1.0*yc)*((x1 - xc)**2 + (y1 - yc)**2)**0.5*((x2 - xc)**2 + (y2 - yc)**2)**(-0.5)\n",
    "    df2_dx = -2*x1 - 2*x3 + 4*xc + 1.0*(-1.0*x1 + 1.0*xc)*((x1 - xc)**2 + (y1 - yc)**2)**(-0.5)*((x3 - xc)**2 + (y3 - yc)**2)**0.5 + 1.0*(-1.0*x3 + 1.0*xc)*((x1 - xc)**2 + (y1 - yc)**2)**0.5*((x3 - xc)**2 + (y3 - yc)**2)**(-0.5)\n",
    "    df2_dy = -2*y1 - 2*y3 + 4*yc + 1.0*(-1.0*y1 + 1.0*yc)*((x1 - xc)**2 + (y1 - yc)**2)**(-0.5)*((x3 - xc)**2 + (y3 - yc)**2)**0.5 + 1.0*(-1.0*y3 + 1.0*yc)*((x1 - xc)**2 + (y1 - yc)**2)**0.5*((x3 - xc)**2 + (y3 - yc)**2)**(-0.5)\n",
    "    J = np.array([[df1_dx, df1_dy], [df2_dx, df2_dy]])\n",
    "    return J"
   ]
  },
  {
   "cell_type": "markdown",
   "metadata": {},
   "source": [
    "Later on, we will also learn how to compute the derivatives numerically. To compute the analytic derivative you can use symbolic math software such as the `sympy` module for Python. Now we define a function for a single iteration of the Newton-Raphson algorithm for convinience:"
   ]
  },
  {
   "cell_type": "code",
   "execution_count": 13,
   "metadata": {},
   "outputs": [],
   "source": [
    "def iter_analytic(xc, yc, corners):\n",
    "    fi = f_i(xc, yc, corners)\n",
    "    J = jacobian(xc, yc, corners)\n",
    "    xs = np.linalg.solve(J, -fi) # We solve the system of equations for the step xs \n",
    "    return xc + xs[0][0], yc + xs[1][0]"
   ]
  },
  {
   "cell_type": "markdown",
   "metadata": {},
   "source": [
    "We can also measure the angles to better see the quality of the current solution."
   ]
  },
  {
   "cell_type": "code",
   "execution_count": 14,
   "metadata": {},
   "outputs": [],
   "source": [
    "    def angles(xc, yc, corners):\n",
    "        x1 = corners[0][0]\n",
    "        y1 = corners[0][1]\n",
    "        x2 = corners[1][0]\n",
    "        y2 = corners[1][1]\n",
    "        x3 = corners[2][0]\n",
    "        y3 = corners[2][1]\n",
    "        lc1_sqr = (yc-y1)**2 + (xc-x1)**2\n",
    "        lc3_sqr = (yc-y3)**2 + (xc-x3)**2\n",
    "        l13_sqr = (y1-y3)**2 + (x1-x3)**2\n",
    "        lc1lc3 = lc1_sqr**0.5 * lc3_sqr**0.5\n",
    "        costheta0 = (l13_sqr - lc1_sqr - lc3_sqr) / (-2.0*lc1lc3)\n",
    "    \n",
    "        lc2_sqr = (yc-y2)**2 + (xc-x2)**2\n",
    "        l12_sqr = (y1-y2)**2 + (x1-x2)**2\n",
    "        lc1lc2 = lc1_sqr**0.5 * lc2_sqr**0.5\n",
    "        costheta1 = (l12_sqr - lc1_sqr - lc2_sqr) / (-2.0*lc1lc2)\n",
    "    \n",
    "        return math.acos(costheta0), math.acos(costheta1)"
   ]
  },
  {
   "cell_type": "markdown",
   "metadata": {},
   "source": [
    "With the definitions above we are ready to solve the problem. Make sure the cell below runs without error. The solution should be found in around 5-6 iterations."
   ]
  },
  {
   "cell_type": "code",
   "execution_count": 15,
   "metadata": {},
   "outputs": [
    {
     "name": "stdout",
     "output_type": "stream",
     "text": [
      "Initial xc = 302.4105333333333,yc = 339.06913333333335: f1 = [-4254.22262068], f2 = [-1722.5431673]\n",
      "Angles (degrees) = |AOC| = 125.97230459891153, |AOB| = 133.82212386837327\n",
      "Iter 1: xi = 321.27665354, yi = 324.11509152, dx = 19, dy = -15\n",
      "Iter 2: xi = 317.00003529, yi = 326.73054954, dx = -4.3, dy = 2.6\n",
      "Iter 3: xi = 316.75180260, yi = 326.85247296, dx = -0.25, dy = 0.12\n",
      "Iter 4: xi = 316.75105450, yi = 326.85279696, dx = -0.00075, dy = 0.00032\n",
      "Iter 5: xi = 316.75105449, yi = 326.85279696, dx = -6.6e-09, dy = 2.6e-09\n"
     ]
    }
   ],
   "source": [
    "x1 = 193.9572\n",
    "y1 = 380.0689\n",
    "x2 = 388.4872\n",
    "y2 = 380.0689\n",
    "x3 = 324.7872\n",
    "y3 = 257.0696\n",
    "corners = ((x1, y1), (x2, y2), (x3, y3))\n",
    "\n",
    "# We initialize the algorithm at the geometric mean of the corners\n",
    "xi = (x1+x2+x3)/3.0\n",
    "yi = (y1+y2+y3)/3.0\n",
    "\n",
    "fi = f_i(xi, yi, corners)\n",
    "print(f'Initial xc = {xi},yc = {yi}: f1 = {fi[0]}, f2 = {fi[1]}')\n",
    "theta = angles(xi, yi, corners)\n",
    "print(f'Angles (degrees) = |AOC| = {theta[0]*180.0/math.pi}, |AOB| = {theta[1]*180.0/math.pi}')\n",
    "\n",
    "param_tol = 1e-8\n",
    "max_iter = 1000\n",
    "for i in range(max_iter):\n",
    "    xn, yn = iter_analytic(xi, yi, corners)\n",
    "    dx = xn-xi\n",
    "    dy = yn-yi\n",
    "    xi, yi = xn, yn\n",
    "    print(f'Iter {i+1}: xi = {xi:.8f}, yi = {yi:.8f}, dx = {dx:.2g}, dy = {dy:.2g}')\n",
    "    if abs(dx) < param_tol and abs(dy) < param_tol:\n",
    "        break\n"
   ]
  },
  {
   "cell_type": "markdown",
   "metadata": {},
   "source": [
    "We can check the quality of the final solution."
   ]
  },
  {
   "cell_type": "code",
   "execution_count": 16,
   "metadata": {},
   "outputs": [
    {
     "name": "stdout",
     "output_type": "stream",
     "text": [
      "Final Solution: xc = 316.7510544895648,yc = 326.85279695791803\n",
      "Angles (degrees) = |AOC| = 119.99999999999999, |AOB| = 119.99999999999999\n"
     ]
    }
   ],
   "source": [
    "print('Final Solution: xc = {},yc = {}'.format(xi, yi))\n",
    "theta = angles(xi, yi, corners)\n",
    "print(f'Angles (degrees) = |AOC| = {theta[0]*180.0/math.pi}, |AOB| = {theta[1]*180.0/math.pi}')"
   ]
  },
  {
   "cell_type": "code",
   "execution_count": null,
   "metadata": {},
   "outputs": [],
   "source": []
  },
  {
   "cell_type": "code",
   "execution_count": null,
   "metadata": {},
   "outputs": [],
   "source": []
  }
 ],
 "metadata": {
  "kernelspec": {
   "display_name": "Python 3",
   "language": "python",
   "name": "python3"
  },
  "language_info": {
   "codemirror_mode": {
    "name": "ipython",
    "version": 3
   },
   "file_extension": ".py",
   "mimetype": "text/x-python",
   "name": "python",
   "nbconvert_exporter": "python",
   "pygments_lexer": "ipython3",
   "version": "3.6.4"
  }
 },
 "nbformat": 4,
 "nbformat_minor": 2
}
